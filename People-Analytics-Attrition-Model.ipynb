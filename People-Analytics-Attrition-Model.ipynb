{
 "cells": [
  {
   "cell_type": "markdown",
   "id": "f19bf366-bde6-4c93-8116-5872117b089a",
   "metadata": {},
   "source": [
    "# Predictive Employee Attrition Model\n",
    "\n",
    "**Author:** Fabrice Achu Ngando  \n",
    "**Date:** October 2025  \n",
    "\n",
    "## Project Description\n",
    "This notebook implements a **Predictive Employee Attrition Model** using the IBM HR Analytics Employee Attrition dataset (`WA_Fn-UseC_-HR-Employee-Attrition.csv`).  \n",
    "\n",
    "The goal is to **predict which employees are at high risk of leaving the company**.  \n",
    "\n",
    "This project demonstrates the full Data Science lifecycle:\n",
    "- Data loading and cleaning\n",
    "- Feature engineering\n",
    "- Handling categorical variables\n",
    "- Model training with hyperparameter tuning\n",
    "- Evaluation with multiple metrics\n",
    "- Feature importance analysis and visualization\n"
   ]
  },
  {
   "cell_type": "markdown",
   "id": "33855afe-119a-4147-a112-3f9f4e68adf0",
   "metadata": {},
   "source": [
    "## 1. Import Libraries\n",
    "\n",
    "We start by importing all necessary libraries for:\n",
    "- Data manipulation (`pandas`, `numpy`)  \n",
    "- Visualization (`matplotlib`, `seaborn`)  \n",
    "- Machine learning (`scikit-learn`)  \n",
    "- Model saving (`joblib`)\n"
   ]
  },
  {
   "cell_type": "code",
   "execution_count": 14,
   "id": "0a45d22a-602d-4adc-975d-4b2740f91964",
   "metadata": {},
   "outputs": [],
   "source": [
    "# 1. Import Libraries\n",
    "import pandas as pd\n",
    "import numpy as np\n",
    "import matplotlib.pyplot as plt\n",
    "import seaborn as sns\n",
    "from sklearn.model_selection import train_test_split, GridSearchCV\n",
    "from sklearn.ensemble import RandomForestClassifier\n",
    "from sklearn.metrics import classification_report, confusion_matrix, accuracy_score, roc_auc_score\n",
    "import joblib\n"
   ]
  },
  {
   "cell_type": "markdown",
   "id": "1a8cfeac-1fe1-43f7-978b-3e36caca4931",
   "metadata": {},
   "source": [
    "## 2. Data Loading\n",
    "\n",
    "- Load the IBM HR Analytics dataset.\n",
    "- Display the number of rows and columns to confirm successful loading.\n",
    "- Handle the FileNotFoundError gracefully if the CSV is missing."
   ]
  },
  {
   "cell_type": "code",
   "execution_count": 15,
   "id": "20e1d1ec-b122-4def-85b1-d11a684ca178",
   "metadata": {},
   "outputs": [
    {
     "name": "stdout",
     "output_type": "stream",
     "text": [
      "Data loaded successfully. Rows: 1470, Columns: 35\n"
     ]
    }
   ],
   "source": [
    "# 2. Data Loading\n",
    "try:\n",
    "    data = pd.read_csv('WA_Fn-UseC_-HR-Employee-Attrition.csv')\n",
    "    print(f\"Data loaded successfully. Rows: {data.shape[0]}, Columns: {data.shape[1]}\")\n",
    "except FileNotFoundError:\n",
    "    print(\"ERROR: Dataset not found. Download 'WA_Fn-UseC_-HR-Employee-Attrition.csv' \"\n",
    "          \"and place it in the same directory as this script.\")\n",
    "    exit()"
   ]
  },
  {
   "cell_type": "markdown",
   "id": "03057340-44fa-4575-9601-f072b94a2b53",
   "metadata": {},
   "source": [
    "## 3. Data Cleaning and Feature Engineering\n",
    "\n",
    "- Drop irrelevant or constant columns: `EmployeeCount`, `StandardHours`, `Over18`.\n",
    "- Convert the target variable `Attrition` to binary: Yes=1, No=0.\n",
    "- Check for missing values and fill them if any.\n",
    "- Create a new feature `Stock_Sal_Ratio` to capture the ratio of stock options to salary.\n"
   ]
  },
  {
   "cell_type": "code",
   "execution_count": 16,
   "id": "ac5e88ae-a0ee-48e7-9ace-b815caac0e92",
   "metadata": {},
   "outputs": [],
   "source": [
    "# 3. Data Cleaning & Feature Engineering\n",
    "# Drop irrelevant or constant columns\n",
    "data = data.drop(columns=['EmployeeCount', 'StandardHours', 'Over18'])\n",
    "\n",
    "# Convert target to binary: Attrition (Yes=1, No=0)\n",
    "data['Attrition'] = data['Attrition'].apply(lambda x: 1 if x == 'Yes' else 0)\n",
    "\n",
    "# Check for missing values\n",
    "if data.isnull().sum().any():\n",
    "    print(\"Missing values detected. Filling with 0 for simplicity.\")\n",
    "    data.fillna(0, inplace=True)\n",
    "\n",
    "# Feature Engineering: Stock option to salary ratio\n",
    "data['Stock_Sal_Ratio'] = np.where(\n",
    "    data['MonthlyIncome'] > 0,\n",
    "    data['StockOptionLevel'] / data['MonthlyIncome'],\n",
    "    0\n",
    ")\n"
   ]
  },
  {
   "cell_type": "markdown",
   "id": "3b7ea7f5-e411-43be-a44f-12112a32e0dd",
   "metadata": {},
   "source": [
    "## 4. Handling Categorical Variables\n",
    "\n",
    "- Identify categorical columns (`object` type).\n",
    "- Apply **one-hot encoding** to convert them into numeric features.\n",
    "- Drop the first level of each categorical variable to avoid multicollinearity.\n"
   ]
  },
  {
   "cell_type": "code",
   "execution_count": 19,
   "id": "eb94d628-efe5-48d8-8301-0bcb205f6544",
   "metadata": {},
   "outputs": [
    {
     "name": "stdout",
     "output_type": "stream",
     "text": [
      "\n",
      "Data shape after encoding: (1470, 47)\n"
     ]
    }
   ],
   "source": [
    "# 4. Categorical Encoding\n",
    "categorical_cols = data.select_dtypes(include=['object']).columns\n",
    "data_encoded = pd.get_dummies(data, columns=categorical_cols, drop_first=True)\n",
    "print(f\"\\nData shape after encoding: {data_encoded.shape}\")"
   ]
  },
  {
   "cell_type": "markdown",
   "id": "1ae8f5b2-4471-4274-b8c6-b12073e88fed",
   "metadata": {},
   "source": [
    "## 5. Define Features (X) and Target (y)\n",
    "\n",
    "- `X`: All features except `Attrition`.\n",
    "- `y`: Target variable (`Attrition`) indicating if an employee left the company.\n"
   ]
  },
  {
   "cell_type": "code",
   "execution_count": 20,
   "id": "7e9b32fe-7c5d-4809-b743-1571735d0644",
   "metadata": {},
   "outputs": [],
   "source": [
    "# 5. Define Features and Target\n",
    "X = data_encoded.drop('Attrition', axis=1)\n",
    "y = data_encoded['Attrition']"
   ]
  },
  {
   "cell_type": "markdown",
   "id": "1b6f0306-ff48-4c57-b2eb-915607145d50",
   "metadata": {},
   "source": [
    "## 6. Train-Test Split\n",
    "\n",
    "- Split dataset into **70% training** and **30% testing**.\n",
    "- Use stratified sampling to maintain the proportion of employees who left (`Attrition=1`) in both sets.\n"
   ]
  },
  {
   "cell_type": "code",
   "execution_count": 21,
   "id": "5e12b761-9985-4c3a-817d-f8d0262cdde4",
   "metadata": {},
   "outputs": [
    {
     "name": "stdout",
     "output_type": "stream",
     "text": [
      "Train set size: 1029, Test set size: 441\n"
     ]
    }
   ],
   "source": [
    "# 6. Train-Test Split\n",
    "X_train, X_test, y_train, y_test = train_test_split(\n",
    "    X, y, test_size=0.30, random_state=42, stratify=y\n",
    ")\n",
    "print(f\"Train set size: {X_train.shape[0]}, Test set size: {X_test.shape[0]}\")\n",
    "\n"
   ]
  },
  {
   "cell_type": "markdown",
   "id": "ef3133c2-555d-4445-97d2-ebc07451caa8",
   "metadata": {},
   "source": [
    "## 7. Model Training with Random Forest\n",
    "\n",
    "- Random Forest Classifier.\n",
    "- Hyperparameter tuning with `GridSearchCV`.\n",
    "- Account for class imbalance with `class_weight='balanced'`.\n"
   ]
  },
  {
   "cell_type": "code",
   "execution_count": 22,
   "id": "5eb8d310-415f-4c23-8d9e-37865a324aba",
   "metadata": {},
   "outputs": [
    {
     "name": "stdout",
     "output_type": "stream",
     "text": [
      "\n",
      "Best Random Forest Model: RandomForestClassifier(class_weight='balanced', max_depth=15,\n",
      "                       min_samples_leaf=2, min_samples_split=5,\n",
      "                       n_estimators=200, random_state=42)\n"
     ]
    }
   ],
   "source": [
    "# 7. Model Training\n",
    "param_grid = {\n",
    "    'n_estimators': [100, 200],\n",
    "    'max_depth': [10, 15, None],\n",
    "    'min_samples_split': [2, 5],\n",
    "    'min_samples_leaf': [1, 2],\n",
    "}\n",
    "\n",
    "grid = GridSearchCV(\n",
    "    RandomForestClassifier(random_state=42, class_weight='balanced'),\n",
    "    param_grid=param_grid,\n",
    "    cv=3,\n",
    "    scoring='f1',\n",
    "    n_jobs=-1\n",
    ")\n",
    "grid.fit(X_train, y_train)\n",
    "model = grid.best_estimator_\n",
    "print(f\"\\nBest Random Forest Model: {model}\")\n"
   ]
  },
  {
   "cell_type": "markdown",
   "id": "bdd1cf15-e8c1-4acb-b561-c9993ba260aa",
   "metadata": {},
   "source": [
    "## 8. Model Evaluation\n",
    "\n",
    "- Metrics: Accuracy, ROC-AUC, Confusion Matrix, Classification Report.\n",
    "- Focus on F1-score for Attrition=1.\n"
   ]
  },
  {
   "cell_type": "code",
   "execution_count": 23,
   "id": "e55f62ee-fd22-400f-a14b-6adce09738b6",
   "metadata": {},
   "outputs": [
    {
     "name": "stdout",
     "output_type": "stream",
     "text": [
      "\n",
      "--- Model Evaluation ---\n",
      "Accuracy: 0.8299\n",
      "ROC-AUC Score: 0.7590\n",
      "Confusion Matrix:\n",
      "[[356  14]\n",
      " [ 61  10]]\n",
      "\n",
      "Classification Report:\n",
      "              precision    recall  f1-score   support\n",
      "\n",
      "           0       0.85      0.96      0.90       370\n",
      "           1       0.42      0.14      0.21        71\n",
      "\n",
      "    accuracy                           0.83       441\n",
      "   macro avg       0.64      0.55      0.56       441\n",
      "weighted avg       0.78      0.83      0.79       441\n",
      "\n"
     ]
    }
   ],
   "source": [
    "# 8. Model Evaluation\n",
    "y_pred = model.predict(X_test)\n",
    "y_prob = model.predict_proba(X_test)[:, 1]\n",
    "\n",
    "accuracy = accuracy_score(y_test, y_pred)\n",
    "roc_score = roc_auc_score(y_test, y_prob)\n",
    "conf_mat = confusion_matrix(y_test, y_pred)\n",
    "report = classification_report(y_test, y_pred)\n",
    "\n",
    "print(\"\\n--- Model Evaluation ---\")\n",
    "print(f\"Accuracy: {accuracy:.4f}\")\n",
    "print(f\"ROC-AUC Score: {roc_score:.4f}\")\n",
    "print(\"Confusion Matrix:\")\n",
    "print(conf_mat)\n",
    "print(\"\\nClassification Report:\")\n",
    "print(report)\n"
   ]
  },
  {
   "cell_type": "markdown",
   "id": "271ed177-6f88-43a8-b62f-043355d949ce",
   "metadata": {},
   "source": [
    "## 9. Feature Importance\n",
    "\n",
    "- Identify the top 10 features influencing attrition predictions.\n",
    "- Visualize them for business insights.\n"
   ]
  },
  {
   "cell_type": "code",
   "execution_count": 24,
   "id": "1f007860-679e-4d7e-9d43-8e265c5d2fb9",
   "metadata": {},
   "outputs": [
    {
     "name": "stdout",
     "output_type": "stream",
     "text": [
      "\n",
      "--- Top 10 Features Driving Attrition Prediction ---\n",
      "MonthlyIncome           0.075530\n",
      "Age                     0.057560\n",
      "Stock_Sal_Ratio         0.057538\n",
      "YearsWithCurrManager    0.046604\n",
      "TotalWorkingYears       0.045392\n",
      "YearsAtCompany          0.043958\n",
      "DailyRate               0.043802\n",
      "OverTime_Yes            0.042927\n",
      "EmployeeNumber          0.040564\n",
      "MonthlyRate             0.039962\n",
      "dtype: float64\n"
     ]
    },
    {
     "name": "stderr",
     "output_type": "stream",
     "text": [
      "C:\\Users\\achub\\AppData\\Local\\Temp\\ipykernel_25980\\1752048796.py:10: FutureWarning: \n",
      "\n",
      "Passing `palette` without assigning `hue` is deprecated and will be removed in v0.14.0. Assign the `y` variable to `hue` and set `legend=False` for the same effect.\n",
      "\n",
      "  sns.barplot(x=top_10_features.values, y=top_10_features.index, palette='viridis')\n"
     ]
    },
    {
     "data": {
      "image/png": "[encoded data removed]",
      "text/plain": [
       "<Figure size 800x500 with 1 Axes>"
      ]
     },
     "metadata": {},
     "output_type": "display_data"
    }
   ],
   "source": [
    "# 9. Feature Importance\n",
    "feature_importances = pd.Series(model.feature_importances_, index=X.columns)\n",
    "top_10_features = feature_importances.nlargest(10)\n",
    "\n",
    "print(\"\\n--- Top 10 Features Driving Attrition Prediction ---\")\n",
    "print(top_10_features)\n",
    "\n",
    "# Visualize top features\n",
    "plt.figure(figsize=(8, 5))\n",
    "sns.barplot(x=top_10_features.values, y=top_10_features.index, palette='viridis')\n",
    "plt.title('Top 10 Features Driving Employee Attrition')\n",
    "plt.xlabel('Importance Score')\n",
    "plt.ylabel('Feature')\n",
    "plt.tight_layout()\n",
    "plt.show()"
   ]
  },
  {
   "cell_type": "markdown",
   "id": "76359737-1c24-4e61-a109-1e2c241cb795",
   "metadata": {},
   "source": [
    "## 10. Save Trained Model\n",
    "\n",
    "- Save the trained Random Forest model with `joblib` for future predictions.\n"
   ]
  },
  {
   "cell_type": "code",
   "execution_count": 25,
   "id": "8693af72-ed28-4352-a7bf-4713e573d1bd",
   "metadata": {},
   "outputs": [
    {
     "name": "stdout",
     "output_type": "stream",
     "text": [
      "\n",
      "Trained model saved as 'attrition_model.pkl'\n"
     ]
    }
   ],
   "source": [
    "# 10. Save Model\n",
    "joblib.dump(model, 'attrition_model.pkl')\n",
    "print(\"\\nTrained model saved as 'attrition_model.pkl'\")\n"
   ]
  },
  {
   "cell_type": "markdown",
   "id": "14000f6f-7cb2-4203-81a2-46ca5b400644",
   "metadata": {},
   "source": [
    "## 11. Conclusion\n",
    "\n",
    "- The model predicts which employees are at high risk of leaving.\n",
    "- Key features influencing attrition: `OverTime`, `Stock_Sal_Ratio`, `JobSatisfaction`.\n",
    "- Demonstrates a complete predictive modeling pipeline for HR analytics:\n",
    "  - Data preprocessing\n",
    "  - Feature engineering\n",
    "  - Model training and tuning\n",
    "  - Evaluation and interpretation\n",
    "- HR teams can leverage these insights to improve retention strategies.\n"
   ]
  },
  {
   "cell_type": "code",
   "execution_count": 28,
   "id": "b539e9cf-f1f4-46e3-aad2-d1930e6e90cf",
   "metadata": {},
   "outputs": [
    {
     "name": "stdout",
     "output_type": "stream",
     "text": [
      "\n",
      "[END OF SCRIPT]\n",
      "This pipeline demonstrates predictive modeling for HR analytics, including feature engineering, training, evaluation, and interpretation.\n"
     ]
    }
   ],
   "source": [
    "# 11. Conclusion\n",
    "print(\"\\n[END OF SCRIPT]\")\n",
    "print(\"This pipeline demonstrates predictive modeling for HR analytics, \"\n",
    "      \"including feature engineering, training, evaluation, and interpretation.\")"
   ]
  }
 ],
 "metadata": {
  "kernelspec": {
   "display_name": "Attrition Env",
   "language": "python",
   "name": "attrition_env"
  },
  "language_info": {
   "codemirror_mode": {
    "name": "ipython",
    "version": 3
   },
   "file_extension": ".py",
   "mimetype": "text/x-python",
   "name": "python",
   "nbconvert_exporter": "python",
   "pygments_lexer": "ipython3",
   "version": "3.13.9"
  }
 },
 "nbformat": 4,
 "nbformat_minor": 5
}
